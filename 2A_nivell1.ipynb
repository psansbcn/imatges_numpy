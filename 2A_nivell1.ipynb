{
 "cells": [
  {
   "cell_type": "markdown",
   "id": "068c7d83",
   "metadata": {},
   "source": [
    "### 1. Array d'una dimensió"
   ]
  },
  {
   "cell_type": "code",
   "execution_count": null,
   "id": "967ac293",
   "metadata": {},
   "outputs": [],
   "source": [
    "import numpy as np"
   ]
  },
  {
   "cell_type": "code",
   "execution_count": null,
   "id": "f6294c2c",
   "metadata": {},
   "outputs": [],
   "source": [
    "arr=np.array([1, 5, 8, 10, 20, 30, 40, 50, 70, 99])\n",
    "arr = arr.astype('int64')\n",
    "print(arr)\n",
    "print('tipus de dades:',arr.dtype, ' . tamany matriu:',arr.size,' . forma matriu:',arr.shape)"
   ]
  },
  {
   "cell_type": "markdown",
   "id": "3a1be9b1",
   "metadata": {},
   "source": [
    "### 2. calcula el valor mitjà i la resta la mitjana resultant de cada un dels valors de la matriu"
   ]
  },
  {
   "cell_type": "code",
   "execution_count": null,
   "id": "a21f213e",
   "metadata": {
    "scrolled": true
   },
   "outputs": [],
   "source": [
    "mitjana=np.sum(arr) / len(arr)\n",
    "print('la mitjana de la matriu és:',mitjana)"
   ]
  },
  {
   "cell_type": "code",
   "execution_count": null,
   "id": "691d4b7e",
   "metadata": {},
   "outputs": [],
   "source": [
    "z=arr-mitjana\n",
    "print('la resta de la mitjana dels valors de la matriu és:',z)"
   ]
  },
  {
   "cell_type": "markdown",
   "id": "5f9ebe75",
   "metadata": {},
   "source": [
    "### 3. Matriu bidimensional amb una forma de 5 x 5. Extreu el valor màxim de la matriu, i els valors màxims de cadascun dels seus eixos"
   ]
  },
  {
   "cell_type": "code",
   "execution_count": null,
   "id": "de460918",
   "metadata": {},
   "outputs": [],
   "source": [
    "arr55 = np.random.randint(10,100, size=(5, 5))\n",
    "print(arr55)\n",
    "print('el valor més gran de la matriu és:', arr55.max())"
   ]
  },
  {
   "cell_type": "markdown",
   "id": "8ddfb617",
   "metadata": {},
   "source": [
    "##### Valor màxim de cada fila:"
   ]
  },
  {
   "cell_type": "code",
   "execution_count": null,
   "id": "867bb9b3",
   "metadata": {},
   "outputs": [],
   "source": [
    "maxrow = np.amax(arr55, axis=1)\n",
    "n=len(maxrow)\n",
    "xx=1\n",
    "while xx<=n:\n",
    "    for w in maxrow:\n",
    "        print('el valor màxim de la fila', xx, 'és',w)\n",
    "        xx=xx+1"
   ]
  },
  {
   "cell_type": "markdown",
   "id": "8bcc5f1f",
   "metadata": {},
   "source": [
    "##### Valor màxim de cada columna:"
   ]
  },
  {
   "cell_type": "code",
   "execution_count": null,
   "id": "9425bc62",
   "metadata": {},
   "outputs": [],
   "source": [
    "maxcol = np.amax(arr55, axis=0)\n",
    "n=len(maxcol)\n",
    "xxx=1\n",
    "while xxx<=n:\n",
    "    for ww in maxcol:\n",
    "        print('el valor màxim de la columna', xxx, 'és',ww)\n",
    "        xxx=xxx+1"
   ]
  }
 ],
 "metadata": {
  "kernelspec": {
   "display_name": "Python 3",
   "language": "python",
   "name": "python3"
  },
  "language_info": {
   "codemirror_mode": {
    "name": "ipython",
    "version": 3
   },
   "file_extension": ".py",
   "mimetype": "text/x-python",
   "name": "python",
   "nbconvert_exporter": "python",
   "pygments_lexer": "ipython3",
   "version": "3.8.5"
  }
 },
 "nbformat": 4,
 "nbformat_minor": 5
}

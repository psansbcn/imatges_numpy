{
 "cells": [
  {
   "cell_type": "markdown",
   "id": "9794fa49",
   "metadata": {},
   "source": [
    "### 4. Regla fonamental de Broadcasting"
   ]
  },
  {
   "cell_type": "code",
   "execution_count": null,
   "id": "ab8234dc",
   "metadata": {},
   "outputs": [],
   "source": [
    "import numpy as np"
   ]
  },
  {
   "cell_type": "code",
   "execution_count": null,
   "id": "a8397ea6",
   "metadata": {},
   "outputs": [],
   "source": [
    "arr25 = np.random.randint(0,11, size=(2, 5))\n",
    "#print(arr25)\n",
    "arr15 = np.random.randint(0,6, size=(1, 5))\n",
    "#print(arr15)\n",
    "print(arr25 * arr15)"
   ]
  },
  {
   "cell_type": "code",
   "execution_count": null,
   "id": "9cf72e7c",
   "metadata": {},
   "outputs": [],
   "source": [
    "arr46a = np.random.randint(0,11, size=(4, 6))\n",
    "#print(arr46a)\n",
    "arr46b = np.random.randint(0,11, size=(4, 6))\n",
    "#print(arr46b)\n",
    "print(arr46a + arr46b)"
   ]
  },
  {
   "cell_type": "code",
   "execution_count": null,
   "id": "1051763c",
   "metadata": {},
   "outputs": [],
   "source": [
    "arr1 = np.random.randint(5,11, size=(1, ))\n",
    "#print(arr1)\n",
    "print(arr46a - arr1)"
   ]
  },
  {
   "cell_type": "code",
   "execution_count": null,
   "id": "089c2f4f",
   "metadata": {},
   "outputs": [],
   "source": [
    "arr3d = np.random.randint(4,8, size=(2,5,3))\n",
    "#print(arr3d)\n",
    "arr2d1 = np.random.randint(4,8, size=(5,3))\n",
    "print(arr3d + arr2d1)"
   ]
  },
  {
   "cell_type": "markdown",
   "id": "0fe00c3b",
   "metadata": {},
   "source": [
    "### 5. Indexació per extreure els valors d'una columna i una fila de la matriu. I suma els seus valors"
   ]
  },
  {
   "cell_type": "code",
   "execution_count": null,
   "id": "67d474a5",
   "metadata": {},
   "outputs": [],
   "source": [
    "arr45 = np.random.randint(1,81, size=(4, 5))\n",
    "print(arr45)\n",
    "\n",
    "print('3a columna:',arr45[...,2])\n",
    "print('2a fila:',arr45[1,...])\n",
    "\n",
    "sumcol=sum(arr45[...,2])\n",
    "sumrow=sum(arr45[1,...])\n",
    "\n",
    "print('suma 3a columna:',sumcol)\n",
    "print('suma 2a fila:',sumrow)\n",
    "print('suma de la 3a columna i la 2a fila:', sumcol+sumrow)"
   ]
  },
  {
   "cell_type": "markdown",
   "id": "a7d4e3d0",
   "metadata": {},
   "source": [
    "### 6. Càlcul booleà vectoritzat"
   ]
  },
  {
   "cell_type": "code",
   "execution_count": null,
   "id": "a7fc898e",
   "metadata": {},
   "outputs": [],
   "source": [
    "print(arr45%4 != 0)\n",
    "\n"
   ]
  },
  {
   "cell_type": "markdown",
   "id": "25d1ce5e",
   "metadata": {},
   "source": [
    "### 7. Index matriu"
   ]
  },
  {
   "cell_type": "code",
   "execution_count": null,
   "id": "2ad45594",
   "metadata": {},
   "outputs": [],
   "source": [
    "C=arr45[arr45%4 == 0]\n",
    "print('matriu de números divisibles per 4:',C)\n",
    "\n",
    "D=arr45[arr45%4 != 0]\n",
    "print('matriu de números NO divisibles per 4:',D)"
   ]
  },
  {
   "cell_type": "code",
   "execution_count": null,
   "id": "e1990f95",
   "metadata": {},
   "outputs": [],
   "source": []
  }
 ],
 "metadata": {
  "kernelspec": {
   "display_name": "Python 3",
   "language": "python",
   "name": "python3"
  },
  "language_info": {
   "codemirror_mode": {
    "name": "ipython",
    "version": 3
   },
   "file_extension": ".py",
   "mimetype": "text/x-python",
   "name": "python",
   "nbconvert_exporter": "python",
   "pygments_lexer": "ipython3",
   "version": "3.8.5"
  }
 },
 "nbformat": 4,
 "nbformat_minor": 5
}

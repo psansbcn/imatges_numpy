{
 "cells": [
  {
   "cell_type": "markdown",
   "id": "f69ddd11",
   "metadata": {},
   "source": [
    "### Importar i manupular una imatge"
   ]
  },
  {
   "cell_type": "code",
   "execution_count": null,
   "id": "8a83c706",
   "metadata": {},
   "outputs": [],
   "source": [
    "import matplotlib as mp\n",
    "import matplotlib.image as mpimg\n",
    "import matplotlib.pyplot as plt\n",
    "import numpy as np\n",
    "\n",
    "%matplotlib inline"
   ]
  },
  {
   "cell_type": "code",
   "execution_count": null,
   "id": "8c0b1d75",
   "metadata": {},
   "outputs": [],
   "source": [
    "img=mpimg.imread('shanghai24.png')\n",
    "print(img)"
   ]
  },
  {
   "cell_type": "code",
   "execution_count": null,
   "id": "274f3a79",
   "metadata": {},
   "outputs": [],
   "source": [
    "print(img.dtype)\n",
    "print(img.shape)"
   ]
  },
  {
   "cell_type": "code",
   "execution_count": null,
   "id": "b03f16ee",
   "metadata": {},
   "outputs": [],
   "source": [
    "plt.axis(\"off\")\n",
    "imgplot = plt.imshow(img)"
   ]
  },
  {
   "cell_type": "markdown",
   "id": "5ea6b274",
   "metadata": {},
   "source": [
    "##### foto sense canal verd"
   ]
  },
  {
   "cell_type": "code",
   "execution_count": null,
   "id": "890237cc",
   "metadata": {
    "scrolled": false
   },
   "outputs": [],
   "source": [
    "img_no_verd=np.copy(img)\n",
    "img_no_verd[:,:,1]=0\n",
    "plt.axis(\"off\")\n",
    "imgplot = plt.imshow(img_no_verd)\n",
    "\n",
    "mpimg.imsave('foto_sense_verd.png' ,img_no_verd)"
   ]
  },
  {
   "cell_type": "markdown",
   "id": "e20afb8e",
   "metadata": {},
   "source": [
    "##### foto sense canal blau"
   ]
  },
  {
   "cell_type": "code",
   "execution_count": null,
   "id": "4ebd30a5",
   "metadata": {},
   "outputs": [],
   "source": [
    "img_no_blau=np.copy(img)\n",
    "img_no_blau[:,:,2]=0\n",
    "plt.axis(\"off\")\n",
    "imgplot = plt.imshow(img_no_blau)\n",
    "\n",
    "mpimg.imsave('foto_sense_blau.png' ,img_no_blau)"
   ]
  },
  {
   "cell_type": "markdown",
   "id": "93ff083a",
   "metadata": {},
   "source": [
    "##### eliminar color per franges"
   ]
  },
  {
   "cell_type": "code",
   "execution_count": null,
   "id": "a35ec04e",
   "metadata": {},
   "outputs": [],
   "source": [
    "img_lines=np.copy(img)\n",
    "img_lines[25:125, :, 0]=0 #eliminar vermell\n",
    "img_lines[100:200, :, 1]=0 #eliminar verd\n",
    "img_lines[175:275, :, 2]=0 #eliminar blau\n",
    "plt.axis(\"off\")\n",
    "imgplot = plt.imshow(img_lines)\n",
    "\n",
    "mpimg.imsave('foto_linies.png' ,img_lines)"
   ]
  },
  {
   "cell_type": "markdown",
   "id": "0a9d7e7d",
   "metadata": {},
   "source": [
    "##### Ajustar el canal blau la meitat de les columnes segons valor"
   ]
  },
  {
   "cell_type": "code",
   "execution_count": null,
   "id": "4d0b1d49",
   "metadata": {},
   "outputs": [],
   "source": [
    "img4=np.copy(img)\n",
    "with np.nditer(img4[:,100:226,2], op_flags=['readwrite']) as it:\n",
    "\n",
    "   for x in it:\n",
    "       if x < 0.5:\n",
    "           x[...] = 0.8\n",
    "plt.axis(\"off\")\n",
    "imgplot = plt.imshow(img4)\n"
   ]
  },
  {
   "cell_type": "code",
   "execution_count": null,
   "id": "d01b1a7f",
   "metadata": {},
   "outputs": [],
   "source": []
  }
 ],
 "metadata": {
  "kernelspec": {
   "display_name": "Python 3",
   "language": "python",
   "name": "python3"
  },
  "language_info": {
   "codemirror_mode": {
    "name": "ipython",
    "version": 3
   },
   "file_extension": ".py",
   "mimetype": "text/x-python",
   "name": "python",
   "nbconvert_exporter": "python",
   "pygments_lexer": "ipython3",
   "version": "3.8.5"
  }
 },
 "nbformat": 4,
 "nbformat_minor": 5
}
